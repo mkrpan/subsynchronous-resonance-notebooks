{
 "cells": [
  {
   "cell_type": "markdown",
   "id": "6bea9c1c",
   "metadata": {},
   "source": [
    "In this notebook, we will see what it looks like when the rotor of a synchronous machine is oscillating.\n",
    "\n",
    "#  Building a Jupyter notebook\n",
    "## Getting started\n",
    "\n",
    "First, let's import some packages we need to run this notebook. We must solve differential equations and animate plots we create with `matplotlib` package."
   ]
  },
  {
   "cell_type": "code",
   "execution_count": null,
   "id": "7b4d7151",
   "metadata": {},
   "outputs": [],
   "source": [
    "import numpy as np\n",
    "from scipy.integrate import odeint\n",
    "import matplotlib\n",
    "import matplotlib.pyplot as plt\n",
    "import matplotlib.animation as animation\n",
    "plt.ioff()\n",
    "matplotlib.rcParams['animation.embed_limit'] = 2**128\n",
    "plt.rcParams[\"animation.html\"] = \"jshtml\"\n",
    "cmap = plt.get_cmap(\"tab10\")\n",
    "pi = np.pi"
   ]
  },
  {
   "cell_type": "markdown",
   "id": "f3033372",
   "metadata": {},
   "source": [
    "## Introduction\n",
    "\n",
    "A synchronous generator rotates at some mechanical angular velocity $\\omega_m$, a time derivative of its rotor position (angle):\n",
    "\n",
    "$$ \n",
    "\\frac{d\\theta_m}{dt} = \\omega_m (t) \n",
    "$$\n",
    "\n",
    "where subscript $m$ denotes a mechanical quantity. Although we usually refer all quantities to the electrical side when conducting power system dynamic analyses, we will not do so here. That's because 50 or 60 Hz motion is too fast for the human eye to perceive. Instead, we will use a generator with many poles, reducing the mechanical speed needed to obtain 50 or 60 Hz electrical, and the motion will be nicely visible in the animations.\n",
    "\n",
    "$\\omega_m(t)$ depends on the balance between the mechanical torque of the turbine (how much power we are generating) and the generator's electrical load (how much power is consumed by the load connected to the generator). It also depends on the turbine type, load, speed governing mechanism, etc. If the turbine mechanical power in and generator electrical power out is perfectly balanced, the generator rotates at a constant speed. If there is any mismatch between the two, the generator will oscillate.\n",
    "\n",
    "Let's not deal with generation-load balance for now and assume that we can describe the generator's speed function as follows:\n",
    "\n",
    "$$\n",
    "\\omega_m = \\omega_b^m + \\Delta \\omega^m_\\mathrm{osc} - \\omega^m_\\mathrm{ref} = 2\\pi \\left( f_b^m + \\Delta f^m_\\mathrm{osc} - f^m_\\mathrm{ref} \\right)\n",
    "$$\n",
    "\n",
    "where $\\omega_b^m$ is the base mechanical frequency (equal to 50 or 60 Hz divided by number of pole pairs), $\\Delta \\omega^m_\\mathrm{osc}$ is the speed oscillation function and $f^m_\\mathrm{ref}$ is the speed of the coordinate system through which we observe the motion (don't worry about it now, it will be explained a bit later).\n",
    "\n",
    "Like most continuous dynamic systems, synchronous generators will behave similarly to a second-order system when disturbed, which is a damped sinusoidal behavior. So, we write the speed oscillation function accordingly:\n",
    "\n",
    "$$\n",
    "\\Delta f^m_\\mathrm{osc} = A e^{-Dt} \\sin\\left(2\\pi f^m_\\mathrm{osc}t\\right)\n",
    "$$\n",
    "\n",
    "whre $A$ is the amplitude of oscillations, $D$ is the rate of decay and $f^m_\\mathrm{osc}$ is a constant frequency of rotor oscillations.\n",
    "\n",
    "To solve this ordinary differential equation numerically, we will use the `odeint` function from the `scipy` package. We also need to define the system of differential equations: "
   ]
  },
  {
   "cell_type": "code",
   "execution_count": null,
   "id": "c1f96763",
   "metadata": {},
   "outputs": [],
   "source": [
    "def diff_eq(y, t, f, fref):\n",
    "    theta = y\n",
    "    dydt =  2 * pi * (f - fref + Afosc * np.sin(2 * pi * fosc * t) * np.exp(-t * damp))\n",
    "    return dydt"
   ]
  },
  {
   "cell_type": "markdown",
   "id": "37d994e4",
   "metadata": {},
   "source": [
    "## Simulation parameters\n",
    "\n",
    "We need to define time-domain simulation parameters. Let's simulate rotor motion over 5 seconds with a time step of 10 ms:"
   ]
  },
  {
   "cell_type": "code",
   "execution_count": null,
   "id": "77f6bf0e",
   "metadata": {},
   "outputs": [],
   "source": [
    "#Simulation parameters\n",
    "T = 5.0                                       # Total simulation duration [s]\n",
    "dt = 0.01                                     # Integration step size and duration of each animation frame [s]\n",
    "nsamples = int(T / dt) + 1                    # Number of samples\n",
    "t = np.linspace(0, T, nsamples)               # Simulation time vector"
   ]
  },
  {
   "cell_type": "markdown",
   "id": "e9ec2745",
   "metadata": {},
   "source": [
    "## Generator parameters\n",
    "\n",
    "Let's define a 20-pole 50 Hz generator. This means that the mechanical rotor frequency is 5 Hz. In other words, the rotor will complete one full turn (360 degrees) in 200 ms. During this interval, 10 fundamental frequency voltage sine waves will be induced at the stator terminals. \n",
    "\n",
    "Let's set the rotor to oscillate electrically with an amplitude of 1 Hz, frequency of 5 Hz and no damping. We need to divide by number of pole pairs to obtain mechanical oscillation. So, we set $A = 1 / p$, $D = 0$, and $f^m_\\mathrm{osc} = 5 / p$ where $p$ is the number of pole pairs. 1 Hz is quite a large amplitude unlikely to happen in a bulk power system, but we'll use it to better visualize the motion."
   ]
  },
  {
   "cell_type": "code",
   "execution_count": null,
   "id": "69003af3",
   "metadata": {},
   "outputs": [],
   "source": [
    "# Generator parameters\n",
    "fb = 50                                       # Base electrical frequency [Hz]\n",
    "pole_pairs = 10                               # Number of pole pairs [unitless]\n",
    "fbm = fb / pole_pairs                         # Base mechanical frequency [mech. Hz]\n",
    "wbm = 2 * pi * fbm                            # Base angular frequency [mech. rad / s]\n",
    "Afosc = 1.0 / pole_pairs                      # Amplitude of rotor oscillations [mech. Hz]\n",
    "fosc = 5.0 / pole_pairs                       # Frequency of rotor oscillations [mech. Hz]\n",
    "damp = 0.0                                    # Damping factor of rotor oscillations [1/s]"
   ]
  },
  {
   "cell_type": "markdown",
   "id": "1bfcc3f7",
   "metadata": {},
   "source": [
    "## Solving differential equation\n",
    "Let's solve the differential equation to obtain the angular position at every time instant. We will set $f^m_\\mathrm{ref}$ to 0.0, corresponding to a stationary reference frame. We would see this if we observed the generator rotor standing beside it. We shall assume that the initial angle is 0 degrees. \n",
    "\n",
    "Rotor angle as a function of time is stored in the variable `thetam`, while rotor speed is stored in the variable `fm`."
   ]
  },
  {
   "cell_type": "code",
   "execution_count": null,
   "id": "c2a82285",
   "metadata": {},
   "outputs": [],
   "source": [
    "# Solve differential equation to obtain (mechanical) rotor angle solution\n",
    "fdq = 0.0   # Reference frame speed [mech. Hz] (0.0 for stationary reference frame)\n",
    "thetam0 = 0.0\n",
    "sol = odeint(diff_eq, thetam0, t, args=(fbm, fdq))\n",
    "thetam = np.mod(sol[:, 0], 2 * pi)\n",
    "fm = diff_eq(None, t, fbm, fdq) / (2 * pi)"
   ]
  },
  {
   "cell_type": "markdown",
   "id": "1f266672",
   "metadata": {},
   "source": [
    "## Plotting and animating rotor motion\n",
    "\n",
    "First, let's draw the cross-section of a synchronous generator as two concentric shapes depicting the stator and rotor. Although this round rotor geometry is that of a turbogenerator, which usually has 2 to 4 poles (steam and gas turbines), we will also use it for hydro generators (generally more than 4 salient poles).\n",
    "\n",
    "Next, we will position the coordinate system (direct and quadrature axis) such that its origin is at the centre of the rotation and the d-axis lays at 0 degrees (in line with the magnetic axis of field winding).\n",
    "\n",
    "Then, we will initialize the time domain plots of rotor speed and angle by drawing an empty canvas.\n",
    "\n",
    "We hide the last figure at position (1,1) because we don't need it."
   ]
  },
  {
   "cell_type": "code",
   "execution_count": null,
   "id": "7d7388db",
   "metadata": {
    "scrolled": false
   },
   "outputs": [],
   "source": [
    "# Define stator and rotor dimensions\n",
    "rr = 1.0\n",
    "rsi = rr + 0.2\n",
    "rso = rr + 0.4\n",
    "ax_len = 0.8\n",
    "rotor = plt.Circle((0, 0), rr, clip_on=False)\n",
    "stator_outer = plt.Circle((0, 0), rso, clip_on=False)\n",
    "stator_inner = plt.Circle((0, 0), rsi, clip_on=False, color='w')\n",
    "\n",
    "# Draw stator and rotor cross-section\n",
    "fig, axes = plt.subplots(2, 2, figsize=(9, 9))\n",
    "axes[0, 0].set_aspect('equal')\n",
    "axes[0, 0].grid(visible=True, which='major', axis='both', color='k', alpha=0.15)\n",
    "axes[0, 0].set(xlim=(-rso**2, rso**2), ylim=(-rso**2, rso**2))\n",
    "axes[0, 0].set_yticklabels([])\n",
    "axes[0, 0].set_xticklabels([])\n",
    "axes[0, 0].add_patch(stator_outer)\n",
    "axes[0, 0].add_patch(stator_inner)\n",
    "axes[0, 0].add_patch(rotor)\n",
    "\n",
    "# Initialize dq axis position\n",
    "daxis, = axes[0, 0].plot([0.0, ax_len * rr], [0.0, 0.0], color='black', linewidth=0.75)\n",
    "qaxis, = axes[0, 0].plot([0.0, 0.0], [0.0, ax_len * rr], color='black', linewidth=0.75)\n",
    "darrow, = axes[0, 0].plot(ax_len * rr,  0.0, color='black', linewidth=0.75, marker=(3, 0, -90))\n",
    "qarrow, = axes[0, 0].plot(0.0,  ax_len * rr, color='black', linewidth=0.75, marker=(3, 0, 0))\n",
    "\n",
    "# Initialize time domain plot of rotor speed and angle \n",
    "tinst = []\n",
    "yangle, yspeed = [], []\n",
    "axes[1, 0].set(xlim=(0.0, T), ylim=(min(fm) - 0.005, max(fm) + 0.005))\n",
    "axes[1, 0].set_aspect(np.diff(axes[1, 0].get_xlim())[0] / np.diff(axes[1, 0].get_ylim())[0])\n",
    "axes[1, 0].grid(visible=True, which='major', axis='both', color='k', alpha=0.15)\n",
    "axes[1, 0].set_xlabel('Time (s)')\n",
    "axes[1, 0].set_ylabel('Frequency (Hz)')\n",
    "speed_line, = axes[1, 0].plot([], [])\n",
    "axes[0, 1].set(xlim=(0.0, T), ylim=(min(thetam * 180 / pi) - 1.0, max(thetam * 180 / pi) + 1.0))\n",
    "axes[0, 1].set_aspect(np.diff(axes[0, 1].get_xlim())[0] / np.diff(axes[0, 1].get_ylim())[0])\n",
    "axes[0, 1].grid(visible=True, which='major', axis='both', color='k', alpha=0.15)\n",
    "axes[0, 1].set_xlabel('Time (s)')\n",
    "axes[0, 1].set_ylabel('Angle (deg)')\n",
    "angle_line, = axes[0, 1].plot([], [])\n",
    "\n",
    "# Hide last subfigure\n",
    "axes[-1, -1].axis('off');"
   ]
  },
  {
   "cell_type": "markdown",
   "id": "c137e1bd",
   "metadata": {},
   "source": [
    "Finally, to animate the rotor motion, we need to define a function that will update the plots and invoke `animation.FuncAnimation()` on the created figures. "
   ]
  },
  {
   "cell_type": "code",
   "execution_count": null,
   "id": "f9689be1",
   "metadata": {},
   "outputs": [],
   "source": [
    "# Update rotor position\n",
    "def rotor_position(frame):\n",
    "    time = t[frame]\n",
    "    speed = fm[frame]\n",
    "    theta = thetam[frame]\n",
    "    tinst.append(time)\n",
    "    yspeed.append(speed)\n",
    "    yangle.append(theta * 180 / pi)\n",
    "    r = ax_len * rr\n",
    "    xd = r * np.cos(theta)\n",
    "    yd = r * np.sin(theta)\n",
    "    xq = r * np.cos(theta + pi / 2)\n",
    "    yq = r * np.sin(theta + pi / 2)\n",
    "    daxis.set_data([0.0, xd],[0.0, yd])\n",
    "    qaxis.set_data([0.0, xq],[0.0, yq])\n",
    "    darrow.set_data([xd], [yd])\n",
    "    darrow.set_marker((3, 0, -90 + theta * 180 / pi))\n",
    "    qarrow.set_data([xq], [yq])\n",
    "    qarrow.set_marker((3, 0, 0 + theta * 180 / pi))\n",
    "    speed_line.set_data(tinst, yspeed)\n",
    "    angle_line.set_data(tinst, yangle)\n",
    "    return daxis, qaxis, darrow, qarrow, speed_line, angle_line\n",
    "\n",
    "# Animate rotor oscillations\n",
    "ani = animation.FuncAnimation(fig=fig, func=rotor_position, frames=len(t), blit=True, interval=dt * 1000)"
   ]
  },
  {
   "cell_type": "code",
   "execution_count": null,
   "id": "022dc977",
   "metadata": {},
   "outputs": [],
   "source": [
    "# Run animation\n",
    "ani"
   ]
  }
 ],
 "metadata": {
  "kernelspec": {
   "display_name": "Python 3 (ipykernel)",
   "language": "python",
   "name": "python3"
  },
  "language_info": {
   "codemirror_mode": {
    "name": "ipython",
    "version": 3
   },
   "file_extension": ".py",
   "mimetype": "text/x-python",
   "name": "python",
   "nbconvert_exporter": "python",
   "pygments_lexer": "ipython3",
   "version": "3.11.7"
  }
 },
 "nbformat": 4,
 "nbformat_minor": 5
}
